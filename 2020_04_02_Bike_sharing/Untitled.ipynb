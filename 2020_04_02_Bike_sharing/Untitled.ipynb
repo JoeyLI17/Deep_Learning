{
 "cells": [
  {
   "cell_type": "code",
   "execution_count": 2,
   "metadata": {},
   "outputs": [],
   "source": [
    "%matplotlib inline\n",
    "%load_ext autoreload\n",
    "%autoreload 2\n",
    "%config InlineBackend.figure_format = 'retina'\n",
    "\n",
    "import numpy as np\n",
    "import pandas as pd\n",
    "import matplotlib.pyplot as plt\n",
    "\n",
    "# test\n",
    "from my_answers import NeuralNetwork\n",
    "def MSE(y, Y):\n",
    "    return np.mean((y-Y)**2)\n",
    "\n"
   ]
  },
  {
   "cell_type": "markdown",
   "metadata": {},
   "source": [
    "## Unit tests\n",
    "\n",
    "Run these unit tests to check the correctness of your network implementation. This will help you be sure your network was implemented correctly befor you starting trying to train it. These tests must all be successful to pass the project."
   ]
  },
  {
   "cell_type": "code",
   "execution_count": 3,
   "metadata": {},
   "outputs": [
    {
     "name": "stderr",
     "output_type": "stream",
     "text": [
      "FEEFE"
     ]
    },
    {
     "name": "stdout",
     "output_type": "stream",
     "text": [
      "Check weights_input_to_hidden \n",
      " [[ 0.63123119  0.25006827]\n",
      " [-0.72193852  0.89776456]\n",
      " [ 0.16126188 -0.35788317]]\n",
      "Check weights_hidden_to_output \n",
      " [[-0.21845455]\n",
      " [ 0.3823477 ]]\n",
      "Check weights_input_to_hidden \n",
      " [[-0.71454024  0.74192927]\n",
      " [ 0.24951668 -0.04298358]\n",
      " [-0.04941163 -0.68925206]]\n",
      "Check weights_hidden_to_output \n",
      " [[-0.28636164]\n",
      " [-1.09786364]]\n",
      "Check weights_input_to_hidden \n",
      " [[ 0.18298761  0.09944739]\n",
      " [ 0.43099356 -0.66288535]\n",
      " [-0.57275953 -0.56826026]]\n",
      "Check weights_hidden_to_output \n",
      " [[0.47841988]\n",
      " [0.10451248]]\n",
      "debug: output_error_term \n",
      " [-0.01870771]\n",
      "debug: weights_hidden_to_output \n",
      " [[ 0.3 -0.1]]\n"
     ]
    },
    {
     "name": "stderr",
     "output_type": "stream",
     "text": [
      "\n",
      "======================================================================\n",
      "ERROR: test_data_loaded (__main__.TestMethods)\n",
      "----------------------------------------------------------------------\n",
      "Traceback (most recent call last):\n",
      "  File \"<ipython-input-3-add1f7c23be2>\", line 23, in test_data_loaded\n",
      "    self.assertTrue(isinstance(rides, pd.DataFrame))\n",
      "NameError: name 'rides' is not defined\n",
      "\n",
      "======================================================================\n",
      "ERROR: test_data_path (__main__.TestMethods)\n",
      "----------------------------------------------------------------------\n",
      "Traceback (most recent call last):\n",
      "  File \"<ipython-input-3-add1f7c23be2>\", line 19, in test_data_path\n",
      "    self.assertTrue(data_path.lower() == 'bike-sharing-dataset/hour.csv')\n",
      "NameError: name 'data_path' is not defined\n",
      "\n",
      "======================================================================\n",
      "ERROR: test_train (__main__.TestMethods)\n",
      "----------------------------------------------------------------------\n",
      "Traceback (most recent call last):\n",
      "  File \"<ipython-input-3-add1f7c23be2>\", line 40, in test_train\n",
      "    network.train(inputs, targets)\n",
      "  File \"C:\\21\\Deep_learning\\Git\\2020_04_02_Bike_sharing\\my_answers.py\", line 55, in train\n",
      "    delta_weights_i_h, delta_weights_h_o)\n",
      "  File \"C:\\21\\Deep_learning\\Git\\2020_04_02_Bike_sharing\\my_answers.py\", line 111, in backpropagation\n",
      "    delta_weights_h_o += output_error_term * hidden_outputs\n",
      "ValueError: non-broadcastable output operand with shape (2,1) doesn't match the broadcast shape (2,2)\n",
      "\n",
      "======================================================================\n",
      "FAIL: test_activation (__main__.TestMethods)\n",
      "----------------------------------------------------------------------\n",
      "Traceback (most recent call last):\n",
      "  File \"<ipython-input-3-add1f7c23be2>\", line 32, in test_activation\n",
      "    self.assertTrue(np.all(network.activation_function(0.5) == 1/(1+np.exp(-0.5))))\n",
      "AssertionError: False is not true\n",
      "\n",
      "======================================================================\n",
      "FAIL: test_run (__main__.TestMethods)\n",
      "----------------------------------------------------------------------\n",
      "Traceback (most recent call last):\n",
      "  File \"<ipython-input-3-add1f7c23be2>\", line 55, in test_run\n",
      "    self.assertTrue(np.allclose(network.run(inputs), 0.09998924))\n",
      "AssertionError: False is not true\n",
      "\n",
      "----------------------------------------------------------------------\n",
      "Ran 5 tests in 0.008s\n",
      "\n",
      "FAILED (failures=2, errors=3)\n"
     ]
    },
    {
     "data": {
      "text/plain": [
       "<unittest.runner.TextTestResult run=5 errors=3 failures=2>"
      ]
     },
     "execution_count": 3,
     "metadata": {},
     "output_type": "execute_result"
    }
   ],
   "source": [
    "import unittest\n",
    "\n",
    "inputs = np.array([[0.5, -0.2, 0.1]])\n",
    "targets = np.array([[0.4]])\n",
    "test_w_i_h = np.array([[0.1, -0.2],\n",
    "                       [0.4, 0.5],\n",
    "                       [-0.3, 0.2]])\n",
    "test_w_h_o = np.array([[0.3],\n",
    "                       [-0.1]])\n",
    "\n",
    "class TestMethods(unittest.TestCase):\n",
    "    \n",
    "    ##########\n",
    "    # Unit tests for data loading\n",
    "    ##########\n",
    "    \n",
    "    def test_data_path(self):\n",
    "        # Test that file path to dataset has been unaltered\n",
    "        self.assertTrue(data_path.lower() == 'bike-sharing-dataset/hour.csv')\n",
    "        \n",
    "    def test_data_loaded(self):\n",
    "        # Test that data frame loaded\n",
    "        self.assertTrue(isinstance(rides, pd.DataFrame))\n",
    "    \n",
    "    ##########\n",
    "    # Unit tests for network functionality\n",
    "    ##########\n",
    "\n",
    "    def test_activation(self):\n",
    "        network = NeuralNetwork(3, 2, 1, 0.5)\n",
    "        # Test that the activation function is a sigmoid\n",
    "        self.assertTrue(np.all(network.activation_function(0.5) == 1/(1+np.exp(-0.5))))\n",
    "\n",
    "    def test_train(self):\n",
    "        # Test that weights are updated correctly on training\n",
    "        network = NeuralNetwork(3, 2, 1, 0.5)\n",
    "        network.weights_input_to_hidden = test_w_i_h.copy()\n",
    "        network.weights_hidden_to_output = test_w_h_o.copy()\n",
    "        \n",
    "        network.train(inputs, targets)\n",
    "        self.assertTrue(np.allclose(network.weights_hidden_to_output, \n",
    "                                    np.array([[ 0.37275328], \n",
    "                                              [-0.03172939]])))\n",
    "        self.assertTrue(np.allclose(network.weights_input_to_hidden,\n",
    "                                    np.array([[ 0.10562014, -0.20185996], \n",
    "                                              [0.39775194, 0.50074398], \n",
    "                                              [-0.29887597, 0.19962801]])))\n",
    "\n",
    "    def test_run(self):\n",
    "        # Test correctness of run method\n",
    "        network = NeuralNetwork(3, 2, 1, 0.5)\n",
    "        network.weights_input_to_hidden = test_w_i_h.copy()\n",
    "        network.weights_hidden_to_output = test_w_h_o.copy()\n",
    "\n",
    "        self.assertTrue(np.allclose(network.run(inputs), 0.09998924))\n",
    "\n",
    "suite = unittest.TestLoader().loadTestsFromModule(TestMethods())\n",
    "unittest.TextTestRunner().run(suite)"
   ]
  },
  {
   "cell_type": "code",
   "execution_count": null,
   "metadata": {},
   "outputs": [],
   "source": []
  }
 ],
 "metadata": {
  "kernelspec": {
   "display_name": "Python 3",
   "language": "python",
   "name": "python3"
  },
  "language_info": {
   "codemirror_mode": {
    "name": "ipython",
    "version": 3
   },
   "file_extension": ".py",
   "mimetype": "text/x-python",
   "name": "python",
   "nbconvert_exporter": "python",
   "pygments_lexer": "ipython3",
   "version": "3.7.4"
  }
 },
 "nbformat": 4,
 "nbformat_minor": 2
}
